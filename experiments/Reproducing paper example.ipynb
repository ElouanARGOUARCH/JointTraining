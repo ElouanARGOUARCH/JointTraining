{
 "cells": [
  {
   "cell_type": "code",
   "execution_count": 8,
   "id": "94fbaa71",
   "metadata": {},
   "outputs": [
    {
     "name": "stdout",
     "output_type": "stream",
     "text": [
      "The autoreload extension is already loaded. To reload it, use:\n",
      "  %reload_ext autoreload\n"
     ]
    }
   ],
   "source": [
    "%load_ext autoreload\n",
    "%autoreload 2\n",
    "import sys\n",
    "sys.path.append('..')\n",
    "from IPython.display import clear_output\n",
    "\n",
    "from models import *\n",
    "from samplers import * \n",
    "from utils import *"
   ]
  },
  {
   "cell_type": "code",
   "execution_count": 19,
   "id": "c7612cf4",
   "metadata": {},
   "outputs": [],
   "source": [
    "prior = torch.distributions.MultivariateNormal(torch.ones(1), 2*torch.eye(1))\n",
    "\n",
    "N_D = 1000\n",
    "multiplicity = 10\n",
    "\n",
    "D_theta = prior.sample([N_D])\n",
    "D_x = D_theta + torch.randn(N_D, multiplicity)"
   ]
  },
  {
   "cell_type": "code",
   "execution_count": 37,
   "id": "2a68c623",
   "metadata": {},
   "outputs": [
    {
     "name": "stderr",
     "output_type": "stream",
     "text": [
      "100%|██████████████████████████████████████████████████████████████████████████████████████████████████████████████████████████████████████████████████████████████████| 500/500 [00:16<00:00, 30.02it/s, loss = 12.521263 ; device: cuda]\n"
     ]
    }
   ],
   "source": [
    "dif = ConditionalDIF(D_x, D_theta, 5,[32,32])\n",
    "dif.train(500, lr = 5e-3, verbose = True)"
   ]
  },
  {
   "cell_type": "code",
   "execution_count": 38,
   "id": "08cd57d5",
   "metadata": {},
   "outputs": [
    {
     "name": "stdout",
     "output_type": "stream",
     "text": [
      "torch.Size([100, 2, 10])\n"
     ]
    }
   ],
   "source": [
    "N_obs = 100\n",
    "sigma_misspecification = 2\n",
    "theta_obs= prior.sample([N_obs])\n",
    "N_per_obs = 2\n",
    "x0_obs=[]\n",
    "for theta in theta_obs: \n",
    "    x0_obs.append(theta + torch.randn(N_per_obs, multiplicity)*(1+sigma_misspecification))\n",
    "x0_obs = torch.stack(x0_obs)\n",
    "print(x0_obs.shape)"
   ]
  },
  {
   "cell_type": "code",
   "execution_count": 39,
   "id": "5a2e11b2",
   "metadata": {},
   "outputs": [
    {
     "name": "stdout",
     "output_type": "stream",
     "text": [
      "tensor(0.)\n",
      "torch.Size([2, 10])\n"
     ]
    }
   ],
   "source": [
    "theta_test = torch.tensor([0.])\n",
    "print(theta_test[0])\n",
    "x0_test = theta_test + torch.randn(N_per_obs, multiplicity)\n",
    "print(x0_test.shape)"
   ]
  },
  {
   "cell_type": "code",
   "execution_count": 40,
   "id": "93aee4a4",
   "metadata": {},
   "outputs": [
    {
     "data": {
      "image/png": "[encoded data removed]",
      "text/plain": [
       "<Figure size 640x480 with 1 Axes>"
      ]
     },
     "metadata": {},
     "output_type": "display_data"
    }
   ],
   "source": [
    "tt = torch.linspace(-3,3,1000)\n",
    "with torch.no_grad():\n",
    "    for sigma in torch.linspace(4,0,50):\n",
    "        noisy_x0 = x0_test + sigma*torch.randn_like(x0_test)\n",
    "        posterior_log_prob = lambda theta: prior.log_prob(theta) + torch.sum(dif.log_prob(noisy_x0.unsqueeze(0).repeat(theta.shape[0],1,1), theta.unsqueeze(1).repeat(1, noisy_x0.shape[0],1)), dim= 1)\n",
    "        plot_1d_unormalized_function(lambda theta: torch.exp(posterior_log_prob(theta.unsqueeze(-1))), range = (-3,3), bins = 1000)\n",
    "        \n",
    "        sigma2_n = (1 + multiplicity*N_per_obs)**(-1)\n",
    "        mu_n = sigma2_n*(torch.sum(noisy_x0))\n",
    "        true_posterior= torch.distributions.MultivariateNormal(torch.tensor([mu_n]), torch.tensor([[sigma2_n]]))\n",
    "        plt.plot(tt, torch.exp(true_posterior.log_prob(tt.unsqueeze(-1))), label ='sigma = '+ str(sigma.item()))\n",
    "        plt.legend()\n",
    "        plt.show()\n",
    "        clear_output(wait= True)"
   ]
  },
  {
   "cell_type": "code",
   "execution_count": 41,
   "id": "44dbe301",
   "metadata": {},
   "outputs": [
    {
     "name": "stderr",
     "output_type": "stream",
     "text": [
      "100%|█████████████████████████████████████████████████████████████████████████████████████████████████████████████████████████████████████████████████████████████████████████████████████████████████████| 10/10 [07:31<00:00, 45.17s/it]\n"
     ]
    }
   ],
   "source": [
    "#joint training\n",
    "current_dif = dif\n",
    "for i in tqdm(range(10)):\n",
    "    current_theta = []\n",
    "    for x0 in x0_obs:\n",
    "        posterior_log_prob = lambda theta: prior.log_prob(theta) + torch.sum(dif.log_prob(x0.unsqueeze(1).repeat(1,theta.shape[0],1), theta.unsqueeze(0).repeat(x0.shape[0],1,1)), dim = 0)\n",
    "        sampler = IMH(posterior_log_prob,1, prior,1)\n",
    "        current_theta.append(sampler.sample(100))\n",
    "    D_theta_plus = torch.cat([D_theta, torch.cat(current_theta, dim = 0).repeat_interleave(N_per_obs, dim = 0)], dim = 0)\n",
    "    D_x_plus = torch.cat([D_x, x0_obs.reshape(N_per_obs*N_obs, multiplicity)], dim =0)\n",
    "    current_dif = ConditionalDIF(D_x_plus, D_theta_plus,5,[32,32])\n",
    "    current_dif.train(500, lr = 5e-3)"
   ]
  },
  {
   "cell_type": "code",
   "execution_count": null,
   "id": "7d8c2ebb",
   "metadata": {},
   "outputs": [],
   "source": [
    "tt = torch.linspace(-3,3,1000)\n",
    "sigma2_n = (1 + multiplicity*N_per_obs)**(-1)\n",
    "mu_n = sigma2_n*(torch.sum(x0_test))\n",
    "true_posterior= torch.distributions.MultivariateNormal(torch.tensor([mu_n]), torch.tensor([[sigma2_n]]))\n",
    "with torch.no_grad():\n",
    "    for sigma in torch.linspace(-0.5,2.5,100):\n",
    "        posterior_log_prob = lambda theta: prior.log_prob(theta) + torch.sum(dif.log_prob(x0_test.unsqueeze(0).repeat(theta.shape[0],1,1)+sigma*torch.randn(theta.shape[0],N_per_obs,multiplicity), theta.unsqueeze(1).repeat(1, x0_test.shape[0],1)), dim= 1)\n",
    "        plot_1d_unormalized_function(lambda theta: torch.exp(posterior_log_prob(theta.unsqueeze(-1))), range = (-3,3), bins=200)\n",
    "        plt.plot(tt, torch.exp(true_posterior.log_prob(tt.unsqueeze(-1))), label = str(sigma))\n",
    "        plt.legend()\n",
    "        plt.show()\n",
    "        clear_output(wait= True)"
   ]
  },
  {
   "cell_type": "code",
   "execution_count": null,
   "id": "ed9dbf63",
   "metadata": {},
   "outputs": [],
   "source": []
  }
 ],
 "metadata": {
  "kernelspec": {
   "display_name": "Python 3 (ipykernel)",
   "language": "python",
   "name": "python3"
  },
  "language_info": {
   "codemirror_mode": {
    "name": "ipython",
    "version": 3
   },
   "file_extension": ".py",
   "mimetype": "text/x-python",
   "name": "python",
   "nbconvert_exporter": "python",
   "pygments_lexer": "ipython3",
   "version": "3.9.2"
  }
 },
 "nbformat": 4,
 "nbformat_minor": 5
}
